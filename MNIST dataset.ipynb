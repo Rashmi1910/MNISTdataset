{
 "cells": [
  {
   "cell_type": "code",
   "execution_count": 1,
   "metadata": {},
   "outputs": [],
   "source": [
    "import keras\n",
    "import tensorflow\n",
    "import mnist"
   ]
  },
  {
   "cell_type": "code",
   "execution_count": 3,
   "metadata": {},
   "outputs": [],
   "source": [
    "import numpy as np\n",
    "import mnist\n",
    "from keras.models import Sequential\n",
    "from keras.layers import Dense"
   ]
  },
  {
   "cell_type": "code",
   "execution_count": 8,
   "metadata": {},
   "outputs": [
    {
     "name": "stdout",
     "output_type": "stream",
     "text": [
      "Collecting np_utils\n",
      "  Using cached np_utils-0.5.12.1.tar.gz (61 kB)\n",
      "Requirement already satisfied: numpy>=1.0 in c:\\users\\rashmi\\anaconda3\\lib\\site-packages (from np_utils) (1.19.5)\n",
      "Requirement already satisfied: future>=0.16 in c:\\users\\rashmi\\anaconda3\\lib\\site-packages (from np_utils) (0.18.2)\n",
      "Building wheels for collected packages: np-utils\n",
      "  Building wheel for np-utils (setup.py): started\n",
      "  Building wheel for np-utils (setup.py): finished with status 'done'\n",
      "  Created wheel for np-utils: filename=np_utils-0.5.12.1-py3-none-any.whl size=57132 sha256=cc2b11fcc39eb1e47058a5a30c048c50c24556ffa9e989d36b94d3cb06fa640b\n",
      "  Stored in directory: c:\\users\\rashmi\\appdata\\local\\pip\\cache\\wheels\\57\\18\\82\\402fcaf521e84dfa67b077aea34d225fc32ce6085e2cb8dda6\n",
      "Successfully built np-utils\n",
      "Installing collected packages: np-utils\n",
      "Successfully installed np-utils-0.5.12.1\n"
     ]
    }
   ],
   "source": [
    "from keras.utils.np_utils import to_categorical\n",
    "!pip install np_utils"
   ]
  },
  {
   "cell_type": "code",
   "execution_count": 9,
   "metadata": {},
   "outputs": [],
   "source": [
    "train_images = mnist.train_images()\n",
    "train_labels = mnist.train_labels()\n",
    "test_images = mnist.test_images()\n",
    "test_labels = mnist.test_labels()"
   ]
  },
  {
   "cell_type": "code",
   "execution_count": 10,
   "metadata": {},
   "outputs": [
    {
     "data": {
      "image/png": "[encoded data removed]",
      "text/plain": [
       "<Figure size 432x288 with 1 Axes>"
      ]
     },
     "metadata": {
      "needs_background": "light"
     },
     "output_type": "display_data"
    }
   ],
   "source": [
    "%matplotlib inline\n",
    "import matplotlib.pyplot as plt\n",
    "first_image = train_images[11]\n",
    "plt.imshow(first_image, cmap='gray')\n",
    "plt.show()"
   ]
  },
  {
   "cell_type": "code",
   "execution_count": 11,
   "metadata": {},
   "outputs": [],
   "source": [
    "train_images = (train_images / 255) - 5\n",
    "test_images = (test_images / 255) - 5"
   ]
  },
  {
   "cell_type": "code",
   "execution_count": 12,
   "metadata": {},
   "outputs": [
    {
     "data": {
      "text/plain": [
       "array([[-5.        , -5.        , -5.        , -5.        , -5.        ,\n",
       "        -5.        , -5.        , -5.        , -5.        , -5.        ,\n",
       "        -5.        , -5.        , -5.        , -5.        , -5.        ,\n",
       "        -5.        , -5.        , -5.        , -5.        , -5.        ,\n",
       "        -5.        , -5.        , -5.        , -5.        , -5.        ,\n",
       "        -5.        , -5.        , -5.        ],\n",
       "       [-5.        , -5.        , -5.        , -5.        , -5.        ,\n",
       "        -5.        , -5.        , -5.        , -5.        , -5.        ,\n",
       "        -5.        , -5.        , -5.        , -5.        , -5.        ,\n",
       "        -5.        , -5.        , -5.        , -5.        , -5.        ,\n",
       "        -5.        , -5.        , -5.        , -5.        , -5.        ,\n",
       "        -5.        , -5.        , -5.        ],\n",
       "       [-5.        , -5.        , -5.        , -5.        , -5.        ,\n",
       "        -5.        , -5.        , -5.        , -5.        , -5.        ,\n",
       "        -5.        , -5.        , -5.        , -5.        , -5.        ,\n",
       "        -5.        , -5.        , -5.        , -5.        , -5.        ,\n",
       "        -5.        , -5.        , -5.        , -5.        , -5.        ,\n",
       "        -5.        , -5.        , -5.        ],\n",
       "       [-5.        , -5.        , -5.        , -5.        , -5.        ,\n",
       "        -5.        , -5.        , -5.        , -5.        , -5.        ,\n",
       "        -5.        , -5.        , -5.        , -5.        , -5.        ,\n",
       "        -5.        , -5.        , -5.        , -5.        , -5.        ,\n",
       "        -5.        , -5.        , -5.        , -5.        , -5.        ,\n",
       "        -5.        , -5.        , -5.        ],\n",
       "       [-5.        , -5.        , -5.        , -5.        , -5.        ,\n",
       "        -5.        , -5.        , -5.        , -5.        , -5.        ,\n",
       "        -5.        , -5.        , -5.        , -5.        , -5.        ,\n",
       "        -5.        , -5.        , -5.        , -5.        , -5.        ,\n",
       "        -5.        , -5.        , -5.        , -5.        , -5.        ,\n",
       "        -5.        , -5.        , -5.        ],\n",
       "       [-5.        , -5.        , -5.        , -5.        , -5.        ,\n",
       "        -5.        , -5.        , -5.        , -5.        , -5.        ,\n",
       "        -5.        , -5.        , -4.98823529, -4.92941176, -4.92941176,\n",
       "        -4.92941176, -4.50588235, -4.46666667, -4.31372549, -4.89803922,\n",
       "        -4.34901961, -4.        , -4.03137255, -4.50196078, -5.        ,\n",
       "        -5.        , -5.        , -5.        ],\n",
       "       [-5.        , -5.        , -5.        , -5.        , -5.        ,\n",
       "        -5.        , -5.        , -5.        , -4.88235294, -4.85882353,\n",
       "        -4.63137255, -4.39607843, -4.33333333, -4.00784314, -4.00784314,\n",
       "        -4.00784314, -4.00784314, -4.00784314, -4.11764706, -4.3254902 ,\n",
       "        -4.00784314, -4.05098039, -4.23529412, -4.74901961, -5.        ,\n",
       "        -5.        , -5.        , -5.        ],\n",
       "       [-5.        , -5.        , -5.        , -5.        , -5.        ,\n",
       "        -5.        , -5.        , -4.80784314, -4.06666667, -4.00784314,\n",
       "        -4.00784314, -4.00784314, -4.00784314, -4.00784314, -4.00784314,\n",
       "        -4.00784314, -4.00784314, -4.01568627, -4.63529412, -4.67843137,\n",
       "        -4.67843137, -4.78039216, -4.84705882, -5.        , -5.        ,\n",
       "        -5.        , -5.        , -5.        ],\n",
       "       [-5.        , -5.        , -5.        , -5.        , -5.        ,\n",
       "        -5.        , -5.        , -4.92941176, -4.14117647, -4.00784314,\n",
       "        -4.00784314, -4.00784314, -4.00784314, -4.00784314, -4.22352941,\n",
       "        -4.28627451, -4.03137255, -4.05490196, -5.        , -5.        ,\n",
       "        -5.        , -5.        , -5.        , -5.        , -5.        ,\n",
       "        -5.        , -5.        , -5.        ],\n",
       "       [-5.        , -5.        , -5.        , -5.        , -5.        ,\n",
       "        -5.        , -5.        , -5.        , -4.68627451, -4.38823529,\n",
       "        -4.58039216, -4.00784314, -4.00784314, -4.19607843, -4.95686275,\n",
       "        -5.        , -4.83137255, -4.39607843, -5.        , -5.        ,\n",
       "        -5.        , -5.        , -5.        , -5.        , -5.        ,\n",
       "        -5.        , -5.        , -5.        ],\n",
       "       [-5.        , -5.        , -5.        , -5.        , -5.        ,\n",
       "        -5.        , -5.        , -5.        , -5.        , -4.94509804,\n",
       "        -4.99607843, -4.39607843, -4.00784314, -4.64705882, -5.        ,\n",
       "        -5.        , -5.        , -5.        , -5.        , -5.        ,\n",
       "        -5.        , -5.        , -5.        , -5.        , -5.        ,\n",
       "        -5.        , -5.        , -5.        ],\n",
       "       [-5.        , -5.        , -5.        , -5.        , -5.        ,\n",
       "        -5.        , -5.        , -5.        , -5.        , -5.        ,\n",
       "        -5.        , -4.45490196, -4.00784314, -4.25490196, -4.99215686,\n",
       "        -5.        , -5.        , -5.        , -5.        , -5.        ,\n",
       "        -5.        , -5.        , -5.        , -5.        , -5.        ,\n",
       "        -5.        , -5.        , -5.        ],\n",
       "       [-5.        , -5.        , -5.        , -5.        , -5.        ,\n",
       "        -5.        , -5.        , -5.        , -5.        , -5.        ,\n",
       "        -5.        , -4.95686275, -4.25490196, -4.00784314, -4.7254902 ,\n",
       "        -5.        , -5.        , -5.        , -5.        , -5.        ,\n",
       "        -5.        , -5.        , -5.        , -5.        , -5.        ,\n",
       "        -5.        , -5.        , -5.        ],\n",
       "       [-5.        , -5.        , -5.        , -5.        , -5.        ,\n",
       "        -5.        , -5.        , -5.        , -5.        , -5.        ,\n",
       "        -5.        , -5.        , -4.8627451 , -4.05490196, -4.11764706,\n",
       "        -4.37254902, -4.57647059, -4.99607843, -5.        , -5.        ,\n",
       "        -5.        , -5.        , -5.        , -5.        , -5.        ,\n",
       "        -5.        , -5.        , -5.        ],\n",
       "       [-5.        , -5.        , -5.        , -5.        , -5.        ,\n",
       "        -5.        , -5.        , -5.        , -5.        , -5.        ,\n",
       "        -5.        , -5.        , -5.        , -4.68235294, -4.05882353,\n",
       "        -4.00784314, -4.00784314, -4.53333333, -4.90196078, -5.        ,\n",
       "        -5.        , -5.        , -5.        , -5.        , -5.        ,\n",
       "        -5.        , -5.        , -5.        ],\n",
       "       [-5.        , -5.        , -5.        , -5.        , -5.        ,\n",
       "        -5.        , -5.        , -5.        , -5.        , -5.        ,\n",
       "        -5.        , -5.        , -5.        , -5.        , -4.82352941,\n",
       "        -4.27058824, -4.00784314, -4.00784314, -4.41176471, -4.89411765,\n",
       "        -5.        , -5.        , -5.        , -5.        , -5.        ,\n",
       "        -5.        , -5.        , -5.        ],\n",
       "       [-5.        , -5.        , -5.        , -5.        , -5.        ,\n",
       "        -5.        , -5.        , -5.        , -5.        , -5.        ,\n",
       "        -5.        , -5.        , -5.        , -5.        , -5.        ,\n",
       "        -4.9372549 , -4.63529412, -4.01176471, -4.00784314, -4.26666667,\n",
       "        -5.        , -5.        , -5.        , -5.        , -5.        ,\n",
       "        -5.        , -5.        , -5.        ],\n",
       "       [-5.        , -5.        , -5.        , -5.        , -5.        ,\n",
       "        -5.        , -5.        , -5.        , -5.        , -5.        ,\n",
       "        -5.        , -5.        , -5.        , -5.        , -5.        ,\n",
       "        -5.        , -5.        , -4.02352941, -4.00784314, -4.02352941,\n",
       "        -4.74901961, -5.        , -5.        , -5.        , -5.        ,\n",
       "        -5.        , -5.        , -5.        ],\n",
       "       [-5.        , -5.        , -5.        , -5.        , -5.        ,\n",
       "        -5.        , -5.        , -5.        , -5.        , -5.        ,\n",
       "        -5.        , -5.        , -5.        , -5.        , -4.81960784,\n",
       "        -4.49019608, -4.28235294, -4.00784314, -4.00784314, -4.18823529,\n",
       "        -4.99215686, -5.        , -5.        , -5.        , -5.        ,\n",
       "        -5.        , -5.        , -5.        ],\n",
       "       [-5.        , -5.        , -5.        , -5.        , -5.        ,\n",
       "        -5.        , -5.        , -5.        , -5.        , -5.        ,\n",
       "        -5.        , -5.        , -4.84705882, -4.41960784, -4.10196078,\n",
       "        -4.00784314, -4.00784314, -4.00784314, -4.01960784, -4.28627451,\n",
       "        -5.        , -5.        , -5.        , -5.        , -5.        ,\n",
       "        -5.        , -5.        , -5.        ],\n",
       "       [-5.        , -5.        , -5.        , -5.        , -5.        ,\n",
       "        -5.        , -5.        , -5.        , -5.        , -5.        ,\n",
       "        -4.90588235, -4.55294118, -4.13333333, -4.00784314, -4.00784314,\n",
       "        -4.00784314, -4.00784314, -4.21176471, -4.69411765, -5.        ,\n",
       "        -5.        , -5.        , -5.        , -5.        , -5.        ,\n",
       "        -5.        , -5.        , -5.        ],\n",
       "       [-5.        , -5.        , -5.        , -5.        , -5.        ,\n",
       "        -5.        , -5.        , -5.        , -4.90980392, -4.74117647,\n",
       "        -4.16470588, -4.00784314, -4.00784314, -4.00784314, -4.00784314,\n",
       "        -4.22352941, -4.68235294, -4.99215686, -5.        , -5.        ,\n",
       "        -5.        , -5.        , -5.        , -5.        , -5.        ,\n",
       "        -5.        , -5.        , -5.        ],\n",
       "       [-5.        , -5.        , -5.        , -5.        , -5.        ,\n",
       "        -5.        , -4.92941176, -4.32941176, -4.14117647, -4.00784314,\n",
       "        -4.00784314, -4.00784314, -4.00784314, -4.23529412, -4.68627451,\n",
       "        -4.96470588, -5.        , -5.        , -5.        , -5.        ,\n",
       "        -5.        , -5.        , -5.        , -5.        , -5.        ,\n",
       "        -5.        , -5.        , -5.        ],\n",
       "       [-5.        , -5.        , -5.        , -5.        , -4.78431373,\n",
       "        -4.3254902 , -4.11372549, -4.00784314, -4.00784314, -4.00784314,\n",
       "        -4.00784314, -4.04313725, -4.47843137, -4.95686275, -5.        ,\n",
       "        -5.        , -5.        , -5.        , -5.        , -5.        ,\n",
       "        -5.        , -5.        , -5.        , -5.        , -5.        ,\n",
       "        -5.        , -5.        , -5.        ],\n",
       "       [-5.        , -5.        , -5.        , -5.        , -4.46666667,\n",
       "        -4.00784314, -4.00784314, -4.00784314, -4.16862745, -4.47058824,\n",
       "        -4.48235294, -4.9372549 , -5.        , -5.        , -5.        ,\n",
       "        -5.        , -5.        , -5.        , -5.        , -5.        ,\n",
       "        -5.        , -5.        , -5.        , -5.        , -5.        ,\n",
       "        -5.        , -5.        , -5.        ],\n",
       "       [-5.        , -5.        , -5.        , -5.        , -5.        ,\n",
       "        -5.        , -5.        , -5.        , -5.        , -5.        ,\n",
       "        -5.        , -5.        , -5.        , -5.        , -5.        ,\n",
       "        -5.        , -5.        , -5.        , -5.        , -5.        ,\n",
       "        -5.        , -5.        , -5.        , -5.        , -5.        ,\n",
       "        -5.        , -5.        , -5.        ],\n",
       "       [-5.        , -5.        , -5.        , -5.        , -5.        ,\n",
       "        -5.        , -5.        , -5.        , -5.        , -5.        ,\n",
       "        -5.        , -5.        , -5.        , -5.        , -5.        ,\n",
       "        -5.        , -5.        , -5.        , -5.        , -5.        ,\n",
       "        -5.        , -5.        , -5.        , -5.        , -5.        ,\n",
       "        -5.        , -5.        , -5.        ],\n",
       "       [-5.        , -5.        , -5.        , -5.        , -5.        ,\n",
       "        -5.        , -5.        , -5.        , -5.        , -5.        ,\n",
       "        -5.        , -5.        , -5.        , -5.        , -5.        ,\n",
       "        -5.        , -5.        , -5.        , -5.        , -5.        ,\n",
       "        -5.        , -5.        , -5.        , -5.        , -5.        ,\n",
       "        -5.        , -5.        , -5.        ]])"
      ]
     },
     "execution_count": 12,
     "metadata": {},
     "output_type": "execute_result"
    }
   ],
   "source": [
    "train_images[0]"
   ]
  },
  {
   "cell_type": "code",
   "execution_count": 13,
   "metadata": {},
   "outputs": [],
   "source": [
    "train_images = train_images.reshape((-1, 784))\n",
    "test_images = test_images.reshape((-1, 784))"
   ]
  },
  {
   "cell_type": "code",
   "execution_count": 14,
   "metadata": {},
   "outputs": [],
   "source": [
    "model = Sequential([\n",
    "  Dense(64, activation='relu', input_shape=(784,)),\n",
    "  Dense(64, activation='relu'),\n",
    "  Dense(10, activation='softmax'),\n",
    "])"
   ]
  },
  {
   "cell_type": "code",
   "execution_count": 15,
   "metadata": {},
   "outputs": [],
   "source": [
    "model.compile(\n",
    "  optimizer='adam',\n",
    "  loss='categorical_crossentropy',\n",
    "  metrics=['accuracy'],\n",
    ")"
   ]
  },
  {
   "cell_type": "code",
   "execution_count": 26,
   "metadata": {},
   "outputs": [
    {
     "name": "stdout",
     "output_type": "stream",
     "text": [
      "Epoch 1/5\n",
      "1875/1875 [==============================] - 3s 1ms/step - loss: 0.6175 - accuracy: 0.7966\n",
      "Epoch 2/5\n",
      "1875/1875 [==============================] - 3s 2ms/step - loss: 0.6002 - accuracy: 0.8009\n",
      "Epoch 3/5\n",
      "1875/1875 [==============================] - 3s 1ms/step - loss: 0.5883 - accuracy: 0.8044\n",
      "Epoch 4/5\n",
      "1875/1875 [==============================] - 3s 1ms/step - loss: 0.5755 - accuracy: 0.8101\n",
      "Epoch 5/5\n",
      "1875/1875 [==============================] - 3s 2ms/step - loss: 0.5539 - accuracy: 0.8174\n"
     ]
    }
   ],
   "source": [
    "history=model.fit(\n",
    "  train_images,\n",
    "  to_categorical(train_labels),\n",
    "  epochs=5,\n",
    "  batch_size=32,\n",
    ")"
   ]
  },
  {
   "cell_type": "code",
   "execution_count": 17,
   "metadata": {},
   "outputs": [
    {
     "name": "stdout",
     "output_type": "stream",
     "text": [
      "313/313 [==============================] - 1s 931us/step - loss: 0.5480 - accuracy: 0.8228\n"
     ]
    },
    {
     "data": {
      "text/plain": [
       "[0.548025369644165, 0.8227999806404114]"
      ]
     },
     "execution_count": 17,
     "metadata": {},
     "output_type": "execute_result"
    }
   ],
   "source": [
    "model.evaluate(\n",
    "  test_images,\n",
    "  to_categorical(test_labels)\n",
    ")"
   ]
  },
  {
   "cell_type": "code",
   "execution_count": 18,
   "metadata": {},
   "outputs": [
    {
     "data": {
      "text/plain": [
       "array([[-5.        , -5.        , -5.        , -5.        , -5.        ,\n",
       "        -5.        , -5.        , -5.        , -5.        , -5.        ,\n",
       "        -5.        , -5.        , -5.        , -5.        , -5.        ,\n",
       "        -5.        , -5.        , -5.        , -5.        , -5.        ,\n",
       "        -5.        , -5.        , -5.        , -5.        , -5.        ,\n",
       "        -5.        , -5.        , -5.        ],\n",
       "       [-5.        , -5.        , -5.        , -5.        , -5.        ,\n",
       "        -5.        , -5.        , -5.        , -5.        , -5.        ,\n",
       "        -5.        , -5.        , -5.        , -5.        , -5.        ,\n",
       "        -5.        , -5.        , -5.        , -5.        , -5.        ,\n",
       "        -5.        , -5.        , -5.        , -5.        , -5.        ,\n",
       "        -5.        , -5.        , -5.        ],\n",
       "       [-5.        , -5.        , -5.        , -5.        , -5.        ,\n",
       "        -5.        , -5.        , -5.        , -5.        , -5.        ,\n",
       "        -5.        , -5.        , -5.        , -5.        , -5.        ,\n",
       "        -5.        , -5.        , -5.        , -5.        , -5.        ,\n",
       "        -5.        , -5.        , -5.        , -5.        , -5.        ,\n",
       "        -5.        , -5.        , -5.        ],\n",
       "       [-5.        , -5.        , -5.        , -5.        , -5.        ,\n",
       "        -5.        , -5.        , -5.        , -5.        , -5.        ,\n",
       "        -5.        , -5.        , -5.        , -5.        , -5.        ,\n",
       "        -5.        , -5.        , -5.        , -5.        , -5.        ,\n",
       "        -5.        , -5.        , -5.        , -5.        , -5.        ,\n",
       "        -5.        , -5.        , -5.        ],\n",
       "       [-5.        , -5.        , -5.        , -5.        , -5.        ,\n",
       "        -5.        , -5.        , -5.        , -5.        , -5.        ,\n",
       "        -5.        , -5.        , -5.        , -5.        , -5.        ,\n",
       "        -5.        , -5.        , -5.        , -5.        , -5.        ,\n",
       "        -5.        , -5.        , -5.        , -5.        , -5.        ,\n",
       "        -5.        , -5.        , -5.        ],\n",
       "       [-5.        , -5.        , -5.        , -5.        , -5.        ,\n",
       "        -5.        , -5.        , -5.        , -5.        , -5.        ,\n",
       "        -5.        , -5.        , -5.        , -5.        , -5.        ,\n",
       "        -5.        , -5.        , -5.        , -5.        , -5.        ,\n",
       "        -5.        , -5.        , -5.        , -5.        , -5.        ,\n",
       "        -5.        , -5.        , -5.        ],\n",
       "       [-5.        , -5.        , -5.        , -5.        , -5.        ,\n",
       "        -5.        , -5.        , -5.        , -5.        , -5.        ,\n",
       "        -5.        , -5.        , -5.        , -5.        , -5.        ,\n",
       "        -5.        , -5.        , -5.        , -5.        , -5.        ,\n",
       "        -5.        , -5.        , -5.        , -5.        , -5.        ,\n",
       "        -5.        , -5.        , -5.        ],\n",
       "       [-5.        , -5.        , -5.        , -5.        , -5.        ,\n",
       "        -5.        , -4.67058824, -4.2745098 , -4.37647059, -4.40784314,\n",
       "        -4.76470588, -4.85882353, -5.        , -5.        , -5.        ,\n",
       "        -5.        , -5.        , -5.        , -5.        , -5.        ,\n",
       "        -5.        , -5.        , -5.        , -5.        , -5.        ,\n",
       "        -5.        , -5.        , -5.        ],\n",
       "       [-5.        , -5.        , -5.        , -5.        , -5.        ,\n",
       "        -5.        , -4.12941176, -4.00392157, -4.00392157, -4.00392157,\n",
       "        -4.00392157, -4.05490196, -4.22352941, -4.22352941, -4.22352941,\n",
       "        -4.22352941, -4.22352941, -4.22352941, -4.22352941, -4.22352941,\n",
       "        -4.33333333, -4.79607843, -5.        , -5.        , -5.        ,\n",
       "        -5.        , -5.        , -5.        ],\n",
       "       [-5.        , -5.        , -5.        , -5.        , -5.        ,\n",
       "        -5.        , -4.7372549 , -4.55294118, -4.71764706, -4.55294118,\n",
       "        -4.36078431, -4.10980392, -4.00392157, -4.11764706, -4.00392157,\n",
       "        -4.00392157, -4.00392157, -4.01960784, -4.10196078, -4.00392157,\n",
       "        -4.00392157, -4.45098039, -5.        , -5.        , -5.        ,\n",
       "        -5.        , -5.        , -5.        ],\n",
       "       [-5.        , -5.        , -5.        , -5.        , -5.        ,\n",
       "        -5.        , -5.        , -5.        , -5.        , -5.        ,\n",
       "        -5.        , -4.93333333, -4.74117647, -4.94509804, -4.7372549 ,\n",
       "        -4.7372549 , -4.7372549 , -4.76862745, -4.91764706, -4.0745098 ,\n",
       "        -4.00392157, -4.58431373, -5.        , -5.        , -5.        ,\n",
       "        -5.        , -5.        , -5.        ],\n",
       "       [-5.        , -5.        , -5.        , -5.        , -5.        ,\n",
       "        -5.        , -5.        , -5.        , -5.        , -5.        ,\n",
       "        -5.        , -5.        , -5.        , -5.        , -5.        ,\n",
       "        -5.        , -5.        , -5.        , -4.6745098 , -4.00784314,\n",
       "        -4.18039216, -4.92941176, -5.        , -5.        , -5.        ,\n",
       "        -5.        , -5.        , -5.        ],\n",
       "       [-5.        , -5.        , -5.        , -5.        , -5.        ,\n",
       "        -5.        , -5.        , -5.        , -5.        , -5.        ,\n",
       "        -5.        , -5.        , -5.        , -5.        , -5.        ,\n",
       "        -5.        , -5.        , -4.91372549, -4.08627451, -4.        ,\n",
       "        -4.6745098 , -5.        , -5.        , -5.        , -5.        ,\n",
       "        -5.        , -5.        , -5.        ],\n",
       "       [-5.        , -5.        , -5.        , -5.        , -5.        ,\n",
       "        -5.        , -5.        , -5.        , -5.        , -5.        ,\n",
       "        -5.        , -5.        , -5.        , -5.        , -5.        ,\n",
       "        -5.        , -5.        , -4.49411765, -4.00392157, -4.06666667,\n",
       "        -4.82745098, -5.        , -5.        , -5.        , -5.        ,\n",
       "        -5.        , -5.        , -5.        ],\n",
       "       [-5.        , -5.        , -5.        , -5.        , -5.        ,\n",
       "        -5.        , -5.        , -5.        , -5.        , -5.        ,\n",
       "        -5.        , -5.        , -5.        , -5.        , -5.        ,\n",
       "        -5.        , -4.76862745, -4.02352941, -4.00392157, -4.75686275,\n",
       "        -5.        , -5.        , -5.        , -5.        , -5.        ,\n",
       "        -5.        , -5.        , -5.        ],\n",
       "       [-5.        , -5.        , -5.        , -5.        , -5.        ,\n",
       "        -5.        , -5.        , -5.        , -5.        , -5.        ,\n",
       "        -5.        , -5.        , -5.        , -5.        , -5.        ,\n",
       "        -5.        , -4.47843137, -4.00392157, -4.26666667, -4.98039216,\n",
       "        -5.        , -5.        , -5.        , -5.        , -5.        ,\n",
       "        -5.        , -5.        , -5.        ],\n",
       "       [-5.        , -5.        , -5.        , -5.        , -5.        ,\n",
       "        -5.        , -5.        , -5.        , -5.        , -5.        ,\n",
       "        -5.        , -5.        , -5.        , -5.        , -5.        ,\n",
       "        -4.96470588, -4.19607843, -4.02745098, -4.77254902, -5.        ,\n",
       "        -5.        , -5.        , -5.        , -5.        , -5.        ,\n",
       "        -5.        , -5.        , -5.        ],\n",
       "       [-5.        , -5.        , -5.        , -5.        , -5.        ,\n",
       "        -5.        , -5.        , -5.        , -5.        , -5.        ,\n",
       "        -5.        , -5.        , -5.        , -5.        , -5.        ,\n",
       "        -4.50588235, -4.00392157, -4.28627451, -5.        , -5.        ,\n",
       "        -5.        , -5.        , -5.        , -5.        , -5.        ,\n",
       "        -5.        , -5.        , -5.        ],\n",
       "       [-5.        , -5.        , -5.        , -5.        , -5.        ,\n",
       "        -5.        , -5.        , -5.        , -5.        , -5.        ,\n",
       "        -5.        , -5.        , -5.        , -5.        , -4.70588235,\n",
       "        -4.01568627, -4.05882353, -4.77647059, -5.        , -5.        ,\n",
       "        -5.        , -5.        , -5.        , -5.        , -5.        ,\n",
       "        -5.        , -5.        , -5.        ],\n",
       "       [-5.        , -5.        , -5.        , -5.        , -5.        ,\n",
       "        -5.        , -5.        , -5.        , -5.        , -5.        ,\n",
       "        -5.        , -5.        , -5.        , -4.9254902 , -4.13333333,\n",
       "        -4.00392157, -4.34901961, -5.        , -5.        , -5.        ,\n",
       "        -5.        , -5.        , -5.        , -5.        , -5.        ,\n",
       "        -5.        , -5.        , -5.        ],\n",
       "       [-5.        , -5.        , -5.        , -5.        , -5.        ,\n",
       "        -5.        , -5.        , -5.        , -5.        , -5.        ,\n",
       "        -5.        , -5.        , -4.98823529, -4.20392157, -4.00392157,\n",
       "        -4.14117647, -4.8627451 , -5.        , -5.        , -5.        ,\n",
       "        -5.        , -5.        , -5.        , -5.        , -5.        ,\n",
       "        -5.        , -5.        , -5.        ],\n",
       "       [-5.        , -5.        , -5.        , -5.        , -5.        ,\n",
       "        -5.        , -5.        , -5.        , -5.        , -5.        ,\n",
       "        -5.        , -5.        , -4.85098039, -4.00392157, -4.00392157,\n",
       "        -4.69803922, -5.        , -5.        , -5.        , -5.        ,\n",
       "        -5.        , -5.        , -5.        , -5.        , -5.        ,\n",
       "        -5.        , -5.        , -5.        ],\n",
       "       [-5.        , -5.        , -5.        , -5.        , -5.        ,\n",
       "        -5.        , -5.        , -5.        , -5.        , -5.        ,\n",
       "        -5.        , -4.87843137, -4.12156863, -4.00392157, -4.54901961,\n",
       "        -4.99607843, -5.        , -5.        , -5.        , -5.        ,\n",
       "        -5.        , -5.        , -5.        , -5.        , -5.        ,\n",
       "        -5.        , -5.        , -5.        ],\n",
       "       [-5.        , -5.        , -5.        , -5.        , -5.        ,\n",
       "        -5.        , -5.        , -5.        , -5.        , -5.        ,\n",
       "        -5.        , -4.47843137, -4.00392157, -4.00392157, -4.79607843,\n",
       "        -5.        , -5.        , -5.        , -5.        , -5.        ,\n",
       "        -5.        , -5.        , -5.        , -5.        , -5.        ,\n",
       "        -5.        , -5.        , -5.        ],\n",
       "       [-5.        , -5.        , -5.        , -5.        , -5.        ,\n",
       "        -5.        , -5.        , -5.        , -5.        , -5.        ,\n",
       "        -4.76078431, -4.05098039, -4.00392157, -4.00392157, -4.79607843,\n",
       "        -5.        , -5.        , -5.        , -5.        , -5.        ,\n",
       "        -5.        , -5.        , -5.        , -5.        , -5.        ,\n",
       "        -5.        , -5.        , -5.        ],\n",
       "       [-5.        , -5.        , -5.        , -5.        , -5.        ,\n",
       "        -5.        , -5.        , -5.        , -5.        , -5.        ,\n",
       "        -4.5254902 , -4.00392157, -4.00392157, -4.14117647, -4.84313725,\n",
       "        -5.        , -5.        , -5.        , -5.        , -5.        ,\n",
       "        -5.        , -5.        , -5.        , -5.        , -5.        ,\n",
       "        -5.        , -5.        , -5.        ],\n",
       "       [-5.        , -5.        , -5.        , -5.        , -5.        ,\n",
       "        -5.        , -5.        , -5.        , -5.        , -5.        ,\n",
       "        -4.5254902 , -4.00392157, -4.18823529, -4.92941176, -5.        ,\n",
       "        -5.        , -5.        , -5.        , -5.        , -5.        ,\n",
       "        -5.        , -5.        , -5.        , -5.        , -5.        ,\n",
       "        -5.        , -5.        , -5.        ],\n",
       "       [-5.        , -5.        , -5.        , -5.        , -5.        ,\n",
       "        -5.        , -5.        , -5.        , -5.        , -5.        ,\n",
       "        -5.        , -5.        , -5.        , -5.        , -5.        ,\n",
       "        -5.        , -5.        , -5.        , -5.        , -5.        ,\n",
       "        -5.        , -5.        , -5.        , -5.        , -5.        ,\n",
       "        -5.        , -5.        , -5.        ]])"
      ]
     },
     "execution_count": 18,
     "metadata": {},
     "output_type": "execute_result"
    }
   ],
   "source": [
    "test_images[0].reshape((28,28))"
   ]
  },
  {
   "cell_type": "code",
   "execution_count": 19,
   "metadata": {},
   "outputs": [
    {
     "data": {
      "image/png": "[encoded data removed]",
      "text/plain": [
       "<Figure size 432x288 with 1 Axes>"
      ]
     },
     "metadata": {
      "needs_background": "light"
     },
     "output_type": "display_data"
    }
   ],
   "source": [
    "%matplotlib inline\n",
    "import matplotlib.pyplot as plt\n",
    "first_image = test_images[78]\n",
    "plt.imshow(first_image.reshape((28,28)), cmap='gray')\n",
    "plt.show()"
   ]
  },
  {
   "cell_type": "code",
   "execution_count": 37,
   "metadata": {},
   "outputs": [
    {
     "data": {
      "text/plain": [
       "9"
      ]
     },
     "execution_count": 37,
     "metadata": {},
     "output_type": "execute_result"
    }
   ],
   "source": [
    "np.argmax(model.predict(test_images[78].reshape((-1,784))))"
   ]
  },
  {
   "cell_type": "code",
   "execution_count": 21,
   "metadata": {},
   "outputs": [
    {
     "name": "stdout",
     "output_type": "stream",
     "text": [
      "[7 2 1 0 4]\n",
      "[7 2 1 0 4]\n"
     ]
    }
   ],
   "source": [
    "predictions = model.predict(test_images[:5]\n",
    "                            \n",
    "print(np.argmax(predictions, axis=1)) \n",
    "\n",
    "print(test_labels[:5]) "
   ]
  }
 ],
 "metadata": {
  "kernelspec": {
   "display_name": "Python 3",
   "language": "python",
   "name": "python3"
  },
  "language_info": {
   "codemirror_mode": {
    "name": "ipython",
    "version": 3
   },
   "file_extension": ".py",
   "mimetype": "text/x-python",
   "name": "python",
   "nbconvert_exporter": "python",
   "pygments_lexer": "ipython3",
   "version": "3.8.8"
  }
 },
 "nbformat": 4,
 "nbformat_minor": 2
}
